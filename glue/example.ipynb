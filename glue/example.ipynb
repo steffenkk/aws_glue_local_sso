{
 "cells": [
  {
   "cell_type": "code",
   "execution_count": 2,
   "metadata": {},
   "outputs": [
    {
     "name": "stdout",
     "output_type": "stream",
     "text": [
      "/home/jupyter/jupyter_default_dir\n"
     ]
    }
   ],
   "source": [
    "%%sh\n",
    "pwd"
   ]
  },
  {
   "cell_type": "code",
   "execution_count": 3,
   "metadata": {},
   "outputs": [
    {
     "name": "stdout",
     "output_type": "stream",
     "text": [
      "Starting Spark application\n"
     ]
    },
    {
     "data": {
      "text/html": [
       "<table>\n",
       "<tr><th>ID</th><th>YARN Application ID</th><th>Kind</th><th>State</th><th>Spark UI</th><th>Driver log</th><th>Current session?</th></tr><tr><td>0</td><td>None</td><td>pyspark</td><td>idle</td><td></td><td></td><td>✔</td></tr></table>"
      ],
      "text/plain": [
       "<IPython.core.display.HTML object>"
      ]
     },
     "metadata": {},
     "output_type": "display_data"
    },
    {
     "data": {
      "application/vnd.jupyter.widget-view+json": {
       "model_id": "",
       "version_major": 2,
       "version_minor": 0
      },
      "text/plain": [
       "FloatProgress(value=0.0, bar_style='info', description='Progress:', layout=Layout(height='25px', width='50%'),…"
      ]
     },
     "metadata": {},
     "output_type": "display_data"
    },
    {
     "name": "stdout",
     "output_type": "stream",
     "text": [
      "SparkSession available as 'spark'.\n"
     ]
    },
    {
     "data": {
      "application/vnd.jupyter.widget-view+json": {
       "model_id": "",
       "version_major": 2,
       "version_minor": 0
      },
      "text/plain": [
       "FloatProgress(value=0.0, bar_style='info', description='Progress:', layout=Layout(height='25px', width='50%'),…"
      ]
     },
     "metadata": {},
     "output_type": "display_data"
    }
   ],
   "source": [
    "from pyspark import SparkContext\n",
    "from awsglue.context import GlueContext\n",
    "\n",
    "glueContext = GlueContext(SparkContext.getOrCreate()) "
   ]
  },
  {
   "cell_type": "markdown",
   "metadata": {},
   "source": [
    "## Example read parquet"
   ]
  },
  {
   "cell_type": "code",
   "execution_count": 4,
   "metadata": {},
   "outputs": [
    {
     "data": {
      "application/vnd.jupyter.widget-view+json": {
       "model_id": "",
       "version_major": 2,
       "version_minor": 0
      },
      "text/plain": [
       "FloatProgress(value=0.0, bar_style='info', description='Progress:', layout=Layout(height='25px', width='50%'),…"
      ]
     },
     "metadata": {},
     "output_type": "display_data"
    },
    {
     "name": "stdout",
     "output_type": "stream",
     "text": [
      "root\n",
      " |-- abzugSumme: double (nullable = true)\n",
      " |-- accountId: string (nullable = true)\n",
      " |-- added_at: string (nullable = true)\n",
      " |-- auftragKopfabschlussDatum: string (nullable = true)\n",
      " |-- auftragKopfabsprungAuftragnummer: string (nullable = true)\n",
      " |-- auftragKopfabsprungNiederlassungsnummer: string (nullable = true)\n",
      " |-- auftragKopfabsprungVersicherungsnummer: string (nullable = true)\n",
      " |-- auftragKopfangelegtAm: string (nullable = true)\n",
      " |-- auftragKopfanspruchAusRezept: boolean (nullable = true)\n",
      " |-- auftragKopfauftragArt: string (nullable = true)\n",
      " |-- auftragKopfauftragNummer: string (nullable = true)\n",
      " |-- auftragKopfbenachrichtigungArt: string (nullable = true)\n",
      " |-- auftragKopfbrillenVersicherungsfall: boolean (nullable = true)\n",
      " |-- auftragKopfdatumAbholung: string (nullable = true)\n",
      " |-- auftragKopfeigenrefraktion: boolean (nullable = true)\n",
      " |-- auftragKopfhasErrors: boolean (nullable = true)\n",
      " |-- auftragKopfhinweis: string (nullable = true)\n",
      " |-- auftragKopfhinweisAktion: string (nullable = true)\n",
      " |-- auftragKopfid: long (nullable = true)\n",
      " |-- auftragKopfisValid: boolean (nullable = true)\n",
      " |-- auftragKopfkommtBescheid: boolean (nullable = true)\n",
      " |-- auftragKopfkontextId: long (nullable = true)\n",
      " |-- auftragKopfkundeId: string (nullable = true)\n",
      " |-- auftragKopfleistungsfallNtv: boolean (nullable = true)\n",
      " |-- auftragKopfneueBrillenVersicherung: boolean (nullable = true)\n",
      " |-- auftragKopfneueNtv: boolean (nullable = true)\n",
      " |-- auftragKopfniederlassungAuftragNummer: string (nullable = true)\n",
      " |-- auftragKopfniederlassungNummer: string (nullable = true)\n",
      " |-- auftragKopfpulzId: string (nullable = true)\n",
      " |-- auftragKopfrechnungKennzeichen: string (nullable = true)\n",
      " |-- auftragKopfreklamation: boolean (nullable = true)\n",
      " |-- auftragKopfsollAnColibriGehen: boolean (nullable = true)\n",
      " |-- auftragKopfstaerke: string (nullable = true)\n",
      " |-- auftragKopfterminId: string (nullable = true)\n",
      " |-- auftragKopfversicherbarBv: boolean (nullable = true)\n",
      " |-- auftragKopfvideozentrierdatenId: double (nullable = true)\n",
      " |-- auftragKopfwareZusenden: boolean (nullable = true)\n",
      " |-- auftragKopfzentrierInfohasErrors: boolean (nullable = true)\n",
      " |-- auftragKopfzentrierInfoisValid: boolean (nullable = true)\n",
      " |-- auftragKopfzentrierInfomanuell: boolean (nullable = true)\n",
      " |-- auftragKopfzentrierInfopupillometer: boolean (nullable = true)\n",
      " |-- auftragKopfzentrierInfovideoMessSystem: boolean (nullable = true)\n",
      " |-- brillenVersicherungabzugVersicherungPraemie: double (nullable = true)\n",
      " |-- brillenVersicherungfassungBetrag: double (nullable = true)\n",
      " |-- brillenVersicherungglasLinksBetrag: double (nullable = true)\n",
      " |-- brillenVersicherungglasRechtsBetrag: double (nullable = true)\n",
      " |-- brillenVersicherunghasErrors: boolean (nullable = true)\n",
      " |-- brillenVersicherungisValid: boolean (nullable = true)\n",
      " |-- brillenVersicherungmaxBetragFassung: double (nullable = true)\n",
      " |-- brillenVersicherungmaxBetragGlas: double (nullable = true)\n",
      " |-- brillenVersicherungrevision: string (nullable = true)\n",
      " |-- brillenVersicherungselbstbehalt: string (nullable = true)\n",
      " |-- brillenVersicherungselbstbehaltFassung: double (nullable = true)\n",
      " |-- brillenVersicherungselbstbehaltGlasLinks: double (nullable = true)\n",
      " |-- brillenVersicherungselbstbehaltGlasRechts: double (nullable = true)\n",
      " |-- brillenVersicherungsfallauftragNummer: string (nullable = true)\n",
      " |-- brillenVersicherungsfallfassungBetrag: double (nullable = true)\n",
      " |-- brillenVersicherungsfallglasLinksBetrag: double (nullable = true)\n",
      " |-- brillenVersicherungsfallglasRechtsBetrag: double (nullable = true)\n",
      " |-- brillenVersicherungsfallhasErrors: boolean (nullable = true)\n",
      " |-- brillenVersicherungsfallisValid: boolean (nullable = true)\n",
      " |-- brillenVersicherungsfallleistungFassungBetrag: double (nullable = true)\n",
      " |-- brillenVersicherungsfallleistungGlasLinksBetrag: double (nullable = true)\n",
      " |-- brillenVersicherungsfallleistungGlasRechtsBetrag: double (nullable = true)\n",
      " |-- brillenVersicherungsfallleistungSumme: double (nullable = true)\n",
      " |-- brillenVersicherungsfallmaxBetragFassung: double (nullable = true)\n",
      " |-- brillenVersicherungsfallmaxBetragGlas: double (nullable = true)\n",
      " |-- brillenVersicherungsfallniederlassungNummer: string (nullable = true)\n",
      " |-- brillenVersicherungsfallrevision: string (nullable = true)\n",
      " |-- brillenVersicherungsfallselbstbehalt: string (nullable = true)\n",
      " |-- brillenVersicherungsfallselbstbehaltFassung: double (nullable = true)\n",
      " |-- brillenVersicherungsfallselbstbehaltGlasLinks: double (nullable = true)\n",
      " |-- brillenVersicherungsfallselbstbehaltGlasRechts: double (nullable = true)\n",
      " |-- brillenVersicherungsfallselbstbehaltSumme: double (nullable = true)\n",
      " |-- brillenVersicherungsfallumfangbezeichnungde-DE: string (nullable = true)\n",
      " |-- brillenVersicherungsfallumfangfassung: string (nullable = true)\n",
      " |-- brillenVersicherungsfallumfangglasLinks: string (nullable = true)\n",
      " |-- brillenVersicherungsfallumfangglasRechts: string (nullable = true)\n",
      " |-- brillenVersicherungsfallumfangid: double (nullable = true)\n",
      " |-- brillenVersicherungsfallumfangkurzBezeichnung: string (nullable = true)\n",
      " |-- brillenVersicherungsfallverbleibendFassungBetrag: double (nullable = true)\n",
      " |-- brillenVersicherungsfallverbleibendGlasLinksBetrag: double (nullable = true)\n",
      " |-- brillenVersicherungsfallverbleibendGlasRechtsBetrag: double (nullable = true)\n",
      " |-- brillenVersicherungumfangbezeichnungde-DE: string (nullable = true)\n",
      " |-- brillenVersicherungumfangfassung: string (nullable = true)\n",
      " |-- brillenVersicherungumfangglasLinks: string (nullable = true)\n",
      " |-- brillenVersicherungumfangglasRechts: string (nullable = true)\n",
      " |-- brillenVersicherungumfangid: double (nullable = true)\n",
      " |-- brillenVersicherungumfangkurzBezeichnung: string (nullable = true)\n",
      " |-- brillenVersicherungversicherbarBv: string (nullable = true)\n",
      " |-- brillenVersicherungzuzahlungVersicherungPraemie: double (nullable = true)\n",
      " |-- endbetragSumme: double (nullable = true)\n",
      " |-- fassungangepasst: boolean (nullable = true)\n",
      " |-- fassungausRetoure: boolean (nullable = true)\n",
      " |-- fassungkundeneigeneFassung: boolean (nullable = true)\n",
      " |-- fassungkundeneigeneFassungDa: boolean (nullable = true)\n",
      " |-- fassungnummer: string (nullable = true)\n",
      " |-- fassungpreis: double (nullable = true)\n",
      " |-- fassungwaehrung: string (nullable = true)\n",
      " |-- fassungzurVerglasung: boolean (nullable = true)\n",
      " |-- glasLinkskategorie: string (nullable = true)\n",
      " |-- glasLinkspreis: double (nullable = true)\n",
      " |-- glasLinkswaehrung: string (nullable = true)\n",
      " |-- glasRechtskategorie: string (nullable = true)\n",
      " |-- glasRechtspreis: double (nullable = true)\n",
      " |-- glasRechtswaehrung: string (nullable = true)\n",
      " |-- glasdatenbezeichnungKomplett: string (nullable = true)\n",
      " |-- glasdatenfarbStaerke: double (nullable = true)\n",
      " |-- glasdatenfarbe: string (nullable = true)\n",
      " |-- glasdatenglasKlasse: string (nullable = true)\n",
      " |-- glasdatenhasErrors: boolean (nullable = true)\n",
      " |-- glasdatenhersteller: string (nullable = true)\n",
      " |-- glasdatenisValid: boolean (nullable = true)\n",
      " |-- glasdatenmarkenGravur: boolean (nullable = true)\n",
      " |-- glasdatenmaterial: string (nullable = true)\n",
      " |-- glasdatenmehrbrillenbedarf: boolean (nullable = true)\n",
      " |-- glasdatennahteil: string (nullable = true)\n",
      " |-- glasdatenstaerke: string (nullable = true)\n",
      " |-- glasdatentoenung: string (nullable = true)\n",
      " |-- glasdatenverguetung1: string (nullable = true)\n",
      " |-- glasdatenverguetung2: string (nullable = true)\n",
      " |-- kundennummer: string (nullable = true)\n",
      " |-- mehrstaerkenJN: string (nullable = true)\n",
      " |-- niederlassungadresselandid: long (nullable = true)\n",
      " |-- niederlassungadresselandkurzBezeichnung: string (nullable = true)\n",
      " |-- niederlassungadresseort: string (nullable = true)\n",
      " |-- niederlassungadresseplz: string (nullable = true)\n",
      " |-- niederlassungadressestrasse: string (nullable = true)\n",
      " |-- niederlassungkoordinatengeoRefPositionX: double (nullable = true)\n",
      " |-- niederlassungkoordinatengeoRefPositionY: double (nullable = true)\n",
      " |-- niederlassungname: string (nullable = true)\n",
      " |-- niederlassungnummer: string (nullable = true)\n",
      " |-- ntvabzug: double (nullable = true)\n",
      " |-- ntvbankverbindungUnbekannt: string (nullable = true)\n",
      " |-- ntvdatumBeginn: string (nullable = true)\n",
      " |-- ntvgrund: string (nullable = true)\n",
      " |-- ntvmehrstaerken: string (nullable = true)\n",
      " |-- ntvsonderleistung: string (nullable = true)\n",
      " |-- ntvumfang: string (nullable = true)\n",
      " |-- ntvversicherungNummer: string (nullable = true)\n",
      " |-- ntvversicherungNummerZurKuendigung: string (nullable = true)\n",
      " |-- ntvzahlungBarRechnung: string (nullable = true)\n",
      " |-- refraktiondatum: string (nullable = true)\n",
      " |-- refraktionhasErrors: boolean (nullable = true)\n",
      " |-- refraktionhinweis: string (nullable = true)\n",
      " |-- refraktionisValid: boolean (nullable = true)\n",
      " |-- refraktionquelle: double (nullable = true)\n",
      " |-- refraktionrefraktionGebuehr: double (nullable = true)\n",
      " |-- refraktionrefraktionist: string (nullable = true)\n",
      " |-- reklamationauftragNummer: string (nullable = true)\n",
      " |-- reklamationfassungDreiJahresGarantie: string (nullable = true)\n",
      " |-- reklamationfassungGarantieBetrag: double (nullable = true)\n",
      " |-- reklamationglasDreiJahresGarantie: string (nullable = true)\n",
      " |-- reklamationglasGarantieBetrag: double (nullable = true)\n",
      " |-- reklamationhasErrors: boolean (nullable = true)\n",
      " |-- reklamationhinweis: string (nullable = true)\n",
      " |-- reklamationisValid: boolean (nullable = true)\n",
      " |-- reklamationniederlassungNummer: string (nullable = true)\n",
      " |-- uuid: string (nullable = true)\n",
      " |-- zuzahlungSumme: double (nullable = true)\n",
      " |-- zwischenSumme: double (nullable = true)"
     ]
    }
   ],
   "source": [
    "inputDF = glueContext.create_dynamic_frame_from_options(connection_type = \"s3\", connection_options = \\\n",
    "                                                        {\"paths\": [\"s3://bi-data-sources-prepared/zenitorders/year=2021/month=02/day=19/\"]},\\\n",
    "                                                        format = \"parquet\")\n",
    "inputDF.toDF().printSchema()"
   ]
  },
  {
   "cell_type": "markdown",
   "metadata": {},
   "source": [
    "## Example read json data"
   ]
  },
  {
   "cell_type": "code",
   "execution_count": 5,
   "metadata": {},
   "outputs": [
    {
     "data": {
      "application/vnd.jupyter.widget-view+json": {
       "model_id": "",
       "version_major": 2,
       "version_minor": 0
      },
      "text/plain": [
       "FloatProgress(value=0.0, bar_style='info', description='Progress:', layout=Layout(height='25px', width='50%'),…"
      ]
     },
     "metadata": {},
     "output_type": "display_data"
    },
    {
     "name": "stdout",
     "output_type": "stream",
     "text": [
      "+--------------------+----------------+--------------------+------+--------------------+---------------------+----------+--------+\n",
      "|             area_id| on_behalf_of_id|     organization_id|  role|           person_id|legislative_period_id|start_date|end_date|\n",
      "+--------------------+----------------+--------------------+------+--------------------+---------------------+----------+--------+\n",
      "|ocd-division/coun...|party/republican|d56acebe-8fdc-47b...|member|0005af3a-9471-4d1...|             term/103|      null|    null|\n",
      "|ocd-division/coun...|party/republican|d56acebe-8fdc-47b...|member|0005af3a-9471-4d1...|             term/104|      null|    null|\n",
      "+--------------------+----------------+--------------------+------+--------------------+---------------------+----------+--------+\n",
      "only showing top 2 rows"
     ]
    }
   ],
   "source": [
    "json_df = glueContext.create_dynamic_frame_from_options(connection_type = \"s3\", connection_options = {\"paths\": [\"s3://awsglue-datasets/examples/us-legislators/all/memberships.json\"]}, format = \"json\")\n",
    "json_df.toDF().show(2)                                       \n"
   ]
  },
  {
   "cell_type": "code",
   "execution_count": 6,
   "metadata": {
    "scrolled": true
   },
   "outputs": [
    {
     "data": {
      "application/vnd.jupyter.widget-view+json": {
       "model_id": "",
       "version_major": 2,
       "version_minor": 0
      },
      "text/plain": [
       "FloatProgress(value=0.0, bar_style='info', description='Progress:', layout=Layout(height='25px', width='50%'),…"
      ]
     },
     "metadata": {},
     "output_type": "display_data"
    },
    {
     "name": "stdout",
     "output_type": "stream",
     "text": [
      "{'ResponseMetadata': {'RequestId': '44FE271F35D927C3', 'HostId': '+lf+R55rJ+5dBoBsJDdxFEMo7EKfw4j+H/aFwJWQUPAzkSrfinXe110wwnW8Bv8u83Y2+O9Ttd4=', 'HTTPStatusCode': 200, 'HTTPHeaders': {'x-amz-id-2': '+lf+R55rJ+5dBoBsJDdxFEMo7EKfw4j+H/aFwJWQUPAzkSrfinXe110wwnW8Bv8u83Y2+O9Ttd4=', 'x-amz-request-id': '44FE271F35D927C3', 'date': 'Tue, 23 Feb 2021 16:08:19 GMT', 'content-type': 'application/xml', 'transfer-encoding': 'chunked', 'server': 'AmazonS3'}, 'RetryAttempts': 0}, 'Buckets': [{'Name': 'aws-glue-assets-619121756350-eu-central-1', 'CreationDate': datetime.datetime(2020, 11, 12, 14, 37, 29, tzinfo=tzlocal())}, {'Name': 'aws-glue-scripts-619121756350-eu-central-1', 'CreationDate': datetime.datetime(2020, 11, 12, 14, 37, 29, tzinfo=tzlocal())}, {'Name': 'aws-glue-temporary-619121756350-eu-central-1', 'CreationDate': datetime.datetime(2020, 11, 12, 14, 37, 29, tzinfo=tzlocal())}, {'Name': 'bi-aws-logs', 'CreationDate': datetime.datetime(2020, 11, 12, 14, 37, 29, tzinfo=tzlocal())}, {'Name': 'bi-data-sources-prepared', 'CreationDate': datetime.datetime(2020, 11, 12, 14, 37, 29, tzinfo=tzlocal())}, {'Name': 'bi-data-sources-raw', 'CreationDate': datetime.datetime(2020, 11, 12, 14, 37, 29, tzinfo=tzlocal())}, {'Name': 'bi-keys-and-scripts', 'CreationDate': datetime.datetime(2020, 11, 12, 14, 37, 29, tzinfo=tzlocal())}, {'Name': 'dnbarre', 'CreationDate': datetime.datetime(2020, 11, 12, 14, 32, 38, tzinfo=tzlocal())}, {'Name': 'elasticbeanstalk-eu-central-1-619121756350', 'CreationDate': datetime.datetime(2020, 11, 18, 9, 18, 36, tzinfo=tzlocal())}, {'Name': 'fielmann.bi.app.corona-figures-store.storage', 'CreationDate': datetime.datetime(2020, 11, 12, 20, 55, 18, tzinfo=tzlocal())}, {'Name': 'fielmann.bi.app.forecast-sales.codebuild', 'CreationDate': datetime.datetime(2020, 11, 12, 20, 30, 16, tzinfo=tzlocal())}, {'Name': 'fielmann.bi.app.forecast-sales.storage', 'CreationDate': datetime.datetime(2020, 11, 12, 15, 5, 45, tzinfo=tzlocal())}, {'Name': 'fielmann.bi.app.marketing-activities.storage', 'CreationDate': datetime.datetime(2020, 11, 12, 20, 37, 16, tzinfo=tzlocal())}, {'Name': 'fielmann.bi.app.opening-hours.storage', 'CreationDate': datetime.datetime(2020, 11, 12, 20, 44, 57, tzinfo=tzlocal())}, {'Name': 'fielmann.bi.app.school-holidays.storage', 'CreationDate': datetime.datetime(2020, 11, 12, 20, 47, 39, tzinfo=tzlocal())}, {'Name': 'fielmann.bi.athena.corona-figures-store', 'CreationDate': datetime.datetime(2021, 1, 11, 12, 48, 50, tzinfo=tzlocal())}, {'Name': 'fielmann.bi.infrastructure.fileshare', 'CreationDate': datetime.datetime(2021, 1, 28, 8, 45, 59, tzinfo=tzlocal())}, {'Name': 'fielmann.bi.infrastructure.lambda-upload', 'CreationDate': datetime.datetime(2021, 1, 21, 11, 9, 35, tzinfo=tzlocal())}, {'Name': 'logs.tableau.fielmann.de', 'CreationDate': datetime.datetime(2021, 2, 15, 19, 42, 29, tzinfo=tzlocal())}, {'Name': 'prepared-data-bucket-dev', 'CreationDate': datetime.datetime(2020, 11, 12, 14, 37, 29, tzinfo=tzlocal())}, {'Name': 'raw-data-bucket-dev', 'CreationDate': datetime.datetime(2020, 11, 12, 14, 37, 29, tzinfo=tzlocal())}, {'Name': 'tableau-backup.fielmann.de', 'CreationDate': datetime.datetime(2021, 2, 15, 19, 42, 29, tzinfo=tzlocal())}, {'Name': 'tableau-deployment.fielmann.de', 'CreationDate': datetime.datetime(2021, 2, 15, 19, 42, 19, tzinfo=tzlocal())}, {'Name': 'terraform.fielmann.bi', 'CreationDate': datetime.datetime(2020, 11, 12, 20, 40, 24, tzinfo=tzlocal())}, {'Name': 'tf-states.bi-analytics.fielmann.cloud', 'CreationDate': datetime.datetime(2020, 3, 27, 7, 52, 20, tzinfo=tzlocal())}, {'Name': 'workgroup-google-analytics-b2c', 'CreationDate': datetime.datetime(2021, 2, 11, 8, 26, 54, tzinfo=tzlocal())}], 'Owner': {'ID': '46655fa11b95a3c4e9d01e8e8077c9c700a14278447c0ac7db7e9518827d444a'}}"
     ]
    }
   ],
   "source": [
    "import boto3\n",
    "boto3.client('s3').list_buckets()"
   ]
  },
  {
   "cell_type": "code",
   "execution_count": null,
   "metadata": {},
   "outputs": [],
   "source": []
  }
 ],
 "metadata": {
  "kernelspec": {
   "display_name": "PySpark",
   "language": "",
   "name": "pysparkkernel"
  },
  "language_info": {
   "codemirror_mode": {
    "name": "python",
    "version": 3
   },
   "mimetype": "text/x-python",
   "name": "pyspark",
   "pygments_lexer": "python3"
  }
 },
 "nbformat": 4,
 "nbformat_minor": 4
}
